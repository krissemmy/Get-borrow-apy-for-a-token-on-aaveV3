{
 "cells": [
  {
   "cell_type": "markdown",
   "id": "3998657e",
   "metadata": {},
   "source": [
    "# Aave V3 USDC Borrow Incentives Analysis on Base\n",
    "\n",
    "This notebook analyzes USDC borrow incentives on Aave V3 deployed on Base network (Chain ID: 8453). We'll fetch the current borrow APY and any available incentives to calculate the effective borrowing cost.\n"
   ]
  },
  {
   "cell_type": "markdown",
   "id": "f303f729",
   "metadata": {},
   "source": [
    "### Step 1: Convert Token Address to Lowercase\n",
    "\n",
    "USDC token address needs to be in lowercase format for API consistency.\n"
   ]
  },
  {
   "cell_type": "code",
   "execution_count": null,
   "id": "be58f0b7",
   "metadata": {},
   "outputs": [
    {
     "data": {
      "text/plain": [
       "'0x833589fcd6edb6e08f4c7c32d4f71b54bda02913'"
      ]
     },
     "execution_count": 13,
     "metadata": {},
     "output_type": "execute_result"
    }
   ],
   "source": [
    "# Convert USDC token address to lowercase for API consistency\n",
    "\"0x833589fCD6eDb6E08f4c7C32D4f71b54bdA02913\".lower()"
   ]
  },
  {
   "cell_type": "markdown",
   "id": "dec6918c",
   "metadata": {},
   "source": [
    "### Step 2: Setup API Configuration and GraphQL Query\n",
    "\n",
    "Configure the Aave V3 API endpoint and create a GraphQL query to fetch:\n",
    "- Underlying token information (USDC)\n",
    "- Current borrow APY\n",
    "- Available incentives (Merit and Aave rewards)"
   ]
  },
  {
   "cell_type": "code",
   "execution_count": 41,
   "id": "354f7e8e",
   "metadata": {},
   "outputs": [],
   "source": [
    "import requests\n",
    "import json\n",
    "from decimal import Decimal\n",
    "\n",
    "univ3_url =  \"https://gateway-arbitrum.network.thegraph.com/api/2f2a4cb66c9247a50de53fc9a2d95f29/subgraphs/id/5zvR82QoaXYFyDEKLZ9t6v9adgnptxYpKpSbxtgVENFV\"\n",
    "url = \"https://api.v3.aave.com/graphql\"\n",
    "\n",
    "# params = {\n",
    "#     'query': '{pool(id:\"' + pool_address + '\", block: {number: ' + str(block) + '}){tick,sqrtPrice,liquidity,ticks(first:1000,orderBy:tickIdx,where:{liquidityNet_not:\"0\"}){tickIdx,liquidityGross,liquidityNet}}}'\n",
    "# }\n",
    "\n",
    "# GraphQL query\n",
    "query = \"\"\"\n",
    "query BorrowIncentivesBaseUSDC($request: ReserveRequest!) {\n",
    "  reserve(request: $request) {\n",
    "    underlyingToken { symbol address }\n",
    "    borrowInfo {\n",
    "      apy {\n",
    "        decimals\n",
    "        formatted\n",
    "        raw\n",
    "        value\n",
    "      }\n",
    "    }\n",
    "    incentives {\n",
    "      __typename\n",
    "      ... on MeritBorrowIncentive {\n",
    "        claimLink\n",
    "        borrowAprDiscount {\n",
    "          value       # decimal fraction, e.g. 0.0123 => 1.23% APR\n",
    "          formatted   # human string, e.g. \"1.23%\"\n",
    "          raw\n",
    "          decimals\n",
    "        }\n",
    "      }\n",
    "      ... on AaveBorrowIncentive {\n",
    "        rewardTokenSymbol\n",
    "        borrowAprDiscount {\n",
    "          value\n",
    "          formatted\n",
    "          raw\n",
    "          decimals\n",
    "        }\n",
    "      }\n",
    "    }\n",
    "  }\n",
    "}\n",
    "\"\"\"\n",
    "\n",
    "variables = {\n",
    "  \"request\": {\n",
    "    \"chainId\": 8453,\n",
    "    \"market\": \"0xa238dd80c259a72e81d7e4664a9801593f98d1c5\",\n",
    "    \"underlyingToken\": \"0x833589fcd6edb6e08f4c7c32d4f71b54bda02913\"\n",
    "  }\n",
    "}\n",
    "\n"
   ]
  },
  {
   "cell_type": "markdown",
   "id": "5230c4ec",
   "metadata": {},
   "source": [
    "## Step 3: Execute API Request\n",
    "\n",
    "Send the GraphQL query to Aave V3 API to fetch token reserve data on a network."
   ]
  },
  {
   "cell_type": "code",
   "execution_count": null,
   "id": "6cd899f7",
   "metadata": {},
   "outputs": [],
   "source": [
    "response = requests.post(url, \n",
    "                        data=json.dumps({\"query\": query, \"variables\": variables}), \n",
    "                        headers={\"Content-Type\": \"application/json\"})"
   ]
  },
  {
   "cell_type": "markdown",
   "id": "ff36b6c7",
   "metadata": {},
   "source": [
    "## Step 4: Check Response Status\n",
    "\n",
    "Verify that the API request was successful (with status code 200)."
   ]
  },
  {
   "cell_type": "code",
   "execution_count": 43,
   "id": "75a78870",
   "metadata": {},
   "outputs": [
    {
     "data": {
      "text/plain": [
       "200"
      ]
     },
     "execution_count": 43,
     "metadata": {},
     "output_type": "execute_result"
    }
   ],
   "source": [
    "response.status_code"
   ]
  },
  {
   "cell_type": "markdown",
   "id": "012eb463",
   "metadata": {},
   "source": [
    "## Step 5: Parse API Response\n",
    "\n",
    "Extract the JSON response data containing:\n",
    "- Token symbol and address\n",
    "- Current borrow APY\n",
    "- Available incentives (Aave and Merit borrow discount)"
   ]
  },
  {
   "cell_type": "code",
   "execution_count": 45,
   "id": "1269f7a3",
   "metadata": {},
   "outputs": [
    {
     "data": {
      "text/plain": [
       "{'data': {'reserve': {'underlyingToken': {'symbol': 'USDC',\n",
       "    'address': '0x833589fCD6eDb6E08f4c7C32D4f71b54bdA02913'},\n",
       "   'borrowInfo': {'apy': {'decimals': 27,\n",
       "     'formatted': '7.82',\n",
       "     'raw': '78192067667154668466057440',\n",
       "     'value': '0.07819206766715466846605744'}},\n",
       "   'incentives': [{'__typename': 'MeritBorrowIncentive',\n",
       "     'claimLink': 'https://apps.aavechan.com/merit/base-borrow-usdc',\n",
       "     'borrowAprDiscount': {'value': '0.02',\n",
       "      'formatted': '2.00',\n",
       "      'raw': '20000000000000000000000000',\n",
       "      'decimals': 27}}]}}}"
      ]
     },
     "execution_count": 45,
     "metadata": {},
     "output_type": "execute_result"
    }
   ],
   "source": [
    "data = response.json()\n",
    "data"
   ]
  },
  {
   "cell_type": "markdown",
   "id": "6e43c883",
   "metadata": {},
   "source": [
    "## Step 6: Calculate Total Incentive APR\n",
    "\n",
    "Sum up all available incentives to get the total APR discount."
   ]
  },
  {
   "cell_type": "code",
   "execution_count": 48,
   "id": "77277c86",
   "metadata": {},
   "outputs": [
    {
     "data": {
      "text/plain": [
       "Decimal('0.02')"
      ]
     },
     "execution_count": 48,
     "metadata": {},
     "output_type": "execute_result"
    }
   ],
   "source": [
    "total_incentive_apr = sum([Decimal(i['borrowAprDiscount']['value']) for i in data['data']['reserve']['incentives']])\n",
    "protocol_apy = float(data['data']['reserve']['borrowInfo']['apy']['value'])\n",
    "total_incentive_apr"
   ]
  },
  {
   "cell_type": "markdown",
   "id": "01035681",
   "metadata": {},
   "source": [
    "## Step 7: Convert APR to APY\n",
    "\n",
    "Convert the incentive APR to APY using compound interest formula: `(1 + APR/365)^365 - 1`"
   ]
  },
  {
   "cell_type": "code",
   "execution_count": 49,
   "id": "237d90e2",
   "metadata": {},
   "outputs": [
    {
     "data": {
      "text/plain": [
       "Decimal('0.020200781032895841595951979')"
      ]
     },
     "execution_count": 49,
     "metadata": {},
     "output_type": "execute_result"
    }
   ],
   "source": [
    "incentives_apr = (Decimal(1) + total_incentive_apr/Decimal(365))**Decimal(365) - Decimal(1)\n",
    "incentives_apr"
   ]
  },
  {
   "cell_type": "markdown",
   "id": "9b53f1b0",
   "metadata": {},
   "source": [
    "## Step 8: Calculate Effective Borrowing Cost\n",
    "\n",
    "Calculate the net borrowing cost after applying incentives:\n",
    "- **Protocol APY**: 7.82% (base borrowing rate)\n",
    "- **Incentive APY**: 2.02% (discount from Merit rewards)\n",
    "- **Effective Rate**: 5.80% (net cost after incentives)"
   ]
  },
  {
   "cell_type": "code",
   "execution_count": 56,
   "id": "7c362768",
   "metadata": {},
   "outputs": [
    {
     "name": "stdout",
     "output_type": "stream",
     "text": [
      "Protocol APY: 7.82%\n",
      "Borrow incentive APY of USDC on Base: 2.02%\n",
      "Total APY (Borrow Rate): 5.80%\n"
     ]
    }
   ],
   "source": [
    "incentives_apy_in_pct = float(f\"{(incentives_apr*100):.2f}\")\n",
    "protocol_apy_in_pct = float(f\"{(protocol_apy*100):.2f}\")\n",
    "print(f\"Protocol APY: {protocol_apy_in_pct}%\")\n",
    "print(f\"Borrow incentive APY of USDC on Base: {incentives_apy_in_pct}%\")\n",
    "\n",
    "print(f\"Total APY (Borrow Rate): {(protocol_apy_in_pct - incentives_apy_in_pct):.2f}%\")\n"
   ]
  },
  {
   "cell_type": "code",
   "execution_count": null,
   "id": "09f819b4",
   "metadata": {},
   "outputs": [],
   "source": []
  }
 ],
 "metadata": {
  "kernelspec": {
   "display_name": "venv",
   "language": "python",
   "name": "python3"
  },
  "language_info": {
   "codemirror_mode": {
    "name": "ipython",
    "version": 3
   },
   "file_extension": ".py",
   "mimetype": "text/x-python",
   "name": "python",
   "nbconvert_exporter": "python",
   "pygments_lexer": "ipython3",
   "version": "3.11.13"
  }
 },
 "nbformat": 4,
 "nbformat_minor": 5
}
